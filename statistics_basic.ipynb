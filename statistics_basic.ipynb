{
  "nbformat": 4,
  "nbformat_minor": 0,
  "metadata": {
    "colab": {
      "provenance": []
    },
    "kernelspec": {
      "name": "python3",
      "display_name": "Python 3"
    },
    "language_info": {
      "name": "python"
    }
  },
  "cells": [
    {
      "cell_type": "code",
      "execution_count": null,
      "metadata": {
        "id": "v2L4pjKkcO9O"
      },
      "outputs": [],
      "source": [
        "THEORY QUESTIONS"
      ]
    },
    {
      "cell_type": "markdown",
      "source": [
        "1.What is statistics, and why is it important?\n",
        "- Statistics is a branch of mathematics focused on collecting, analyzing, interpreting, and presenting data. It's important because it helps us understand patterns, make informed decisions, and draw meaningful conclusions from information, even when it's complex or uncertain.\n",
        "\n",
        "2.What are the two main types of statistics?\n",
        "- The two main types of statistics are descriptive statistics and inferential statistics. Descriptive statistics summarizes and organizes data from a sample or population using measures like mean, median, standard deviation, etc. It provides a snapshot of the data's key characteristics.Inferential statistics, on the other hand, uses sample data to draw conclusions and make predictions about a larger population. It involves techniques like hypothesis testing and confidence intervals.\n",
        "\n",
        "3.What are descriptive statistics?\n",
        "- Descriptive statistics are used to summarize, organize, and describe the characteristics of a dataset in a meaningful way, without making inferences about a larger population. They focus on presenting the main features of the data through measures of central tendency, variability, and distribution shape.\n",
        "\n",
        "4.What is inferential statistics?\n",
        "- Inferential statistics uses sample data to draw conclusions and make predictions about a larger population. It's a way to generalize findings from a smaller group (the sample) to a broader group (the population). This involves using probability theory and statistical techniques to determine the reliability and validity of those generalizations.\n",
        "\n",
        "5.What is sampling in statistics?\n",
        "- In statistics, sampling is the process of selecting a subset of individuals or data points from a larger population to study and draw conclusions about the entire population. It's a practical way to gather information when examining the whole population is infeasible, too expensive, or time-consuming.\n",
        "\n",
        "6.What are the different types of sampling methods?\n",
        "- Sampling techniques are categorized into two main types: probability sampling and non-probability sampling. Each type is tailored to specific research needs and offers unique advantages and challenges.Probability Sampling:Simple Random Sampling,Stratified Sampling,Cluster Sampling,Systematic Sampling.Non-Probability Sampling:Convenience Sampling,Purposive Sampling,Snowball Sampling,Quota Sampling.\n",
        "\n",
        "7.What is the difference between random and non-random sampling?\n",
        "- Random and non-random sampling are two main approaches to selecting a sample from a population for research or analysis. The key difference lies in the selection process: random sampling uses chance to ensure each member has an equal opportunity of being selected, while non-random sampling uses criteria like convenience, judgment, or specific researcher choices.\n",
        "\n",
        "8.Define and give examples of qualitative and quantitative data.\n",
        "- Qualitative Data:Information that is not expressed numerically and is often used to understand the qualities, characteristics, or meanings behind something. Examples:\n",
        "The color of a flower (red, blue, yellow).\n",
        "The taste of an apple (sweet, tart, acidic).\n",
        "A person's opinion on a product (positive, negative, neutral).\n",
        "Ethnographic observations (describing cultural practices).\n",
        "Quantitative Data:Information that can be expressed numerically and is used to measure or count things.Examples:\n",
        "Height (in inches or centimeters).\n",
        "Weight (in pounds or kilograms).\n",
        "Age (in years).\n",
        "\n",
        "9.What are the different types of data in statistics?\n",
        "- In statistics, data is broadly classified into qualitative (categorical) and quantitative (numerical) data. Qualitative data describes qualities or attributes, while quantitative data represents quantities or can be measured numerically. Both types have further subdivisions: qualitative into nominal and ordinal, and quantitative into discrete and continuous.\n",
        "\n",
        "10.Explain nominal, ordinal, interval, and ratio levels of measurement.\n",
        "- The four levels of measurement, from least to most specific, are: nominal, ordinal, interval, and ratio. Nominal data is categorical, ordinal data can be ranked, interval data has equal spacing between values, and ratio data has a true zero point.Nominal:This level of measurement involves categories with no inherent order or ranking. Examples include colors (red, blue, green), types of fruit (apple, banana, orange), or gender (male, female). You can count the frequency of each category, but you can't say one is \"greater than\" another.Ordinal:Ordinal data can be categorized and ranked, but the differences between the ranks may not be equal. Examples include education level (high school, bachelor's, master's), customer satisfaction (very dissatisfied, dissatisfied, neutral, satisfied, very satisfied), or movie rankings (1st, 2nd, 3rd). You know the order, but you can't say the difference between 1st and 2nd is the same as the difference between 2nd and 3rd.Interval:Interval data has all the characteristics of ordinal data, but the intervals between values are equal. A common example is temperature in Celsius or Fahrenheit. The difference between 10 and 20 degrees is the same as the difference between 20 and 30 degrees. However, there is no true zero point (0 degrees does not mean the absence of temperature), so ratios are not meaningful (e.g., 20 degrees is not twice as hot as 10 degrees).Ratio:Ratio data has all the characteristics of interval data, plus a true zero point. This means ratios are meaningful. Examples include height, weight, age, income, and Kelvin temperature. Zero height means the absence of height, and a person who is 6 feet tall is twice as tall as someone who is 3 feet tall.\n",
        "\n",
        "11.What is the measure of central tendency?\n",
        "- A measure of central tendency is a single value that attempts to describe a set of data by identifying the central position within that set of data. It's a way to summarize a dataset with a representative value that indicates where the \"middle\" or \"center\" of the data lies. The three most common measures of central tendency are the mean, median, and mode.\n",
        "\n",
        "12.Define mean, median, and mode.\n",
        "- Mean:The mean is the most common type of average. It's found by adding all the values in a dataset and then dividing by the total number of values.Median:\n",
        "The median is the middle value in a dataset that has been arranged in ascending or descending order. If there's an even number of values, the median is the average of the two middle values.The mode is the value that appears most often in a dataset.\n",
        "\n",
        "13.What is the significance of the measure of central tendency?\n",
        "- Measures of central tendency are crucial because they summarize a dataset with a single value that represents the \"typical\" or \"average\" value, making it easier to understand and compare data. They are fundamental in data analysis, providing a concise representation of a dataset's central location, helping identify patterns and making comparisons between different datasets.\n",
        "\n",
        "14.What is variance, and how is it calculated?\n",
        "- Variance is a statistical measure that quantifies the amount of dispersion or variability within a set of data points. It essentially tells you how spread out the numbers are from their average value (mean). A higher variance indicates that the data points are more scattered, while a lower variance suggests they are clustered closer to the mean.\n",
        "\n",
        "15.What is standard deviation, and why is it important?\n",
        "- Standard deviation is a statistical measure that quantifies the amount of variation or dispersion of a set of values from its mean (average). It's essentially a measure of how spread out the data is. A low standard deviation indicates that the data points tend to be close to the mean, while a high standard deviation suggests that the data points are scattered over a wider range of values. It's important because it helps understand the reliability of the mean, identify outliers, and assess risk in various fields.\n",
        "\n",
        "16.Define and explain the term range in statistics.\n",
        "- In statistics, the range is a simple measure of variability that represents the difference between the highest and lowest values in a dataset. It provides a quick overview of the spread or dispersion of the data.\n",
        "Definition and Calculation:\n",
        "Definition:the range is the difference between the maximum and minimum values within a dataset.\n",
        "Calculation: Range = Highest Value - Lowest Value.\n",
        "\n",
        "17.What is the difference between variance and standard deviation?\n",
        "- Variance and standard deviation are both measures of data dispersion, but standard deviation is the square root of the variance. Variance quantifies the average squared difference of data points from the mean, while standard deviation represents the spread of data around the mean, expressed in the same units as the original data.\n",
        "\n",
        "18.What is skewness in a dataset?\n",
        "- Skewness in a dataset refers to the measure of the asymmetry or lack of symmetry in the distribution of data points around its mean. It indicates whether the data is concentrated more on one side of the mean than the other. A dataset can be skewed to the left (negative skew), to the right (positive skew), or be symmetrical (zero skew).\n",
        "\n",
        "19.What does it mean if a dataset is positively or negatively skewed?\n",
        "- In statistics, skewness describes the asymmetry of a data distribution. A positively skewed distribution has a longer tail on the right side, meaning most values are clustered on the left with a few high outliers. Conversely, a negatively skewed distribution has a longer tail on the left, with most values clustered on the right and some low outliers.\n",
        "\n",
        "20.Define and explain kurtosis.\n",
        "- Kurtosis is a statistical measure that describes the shape of a probability distribution, specifically the \"peakedness\" or \"tailedness\" of the distribution relative to a normal distribution. It indicates how much the data is concentrated around the mean (peak) and in the tails of the distribution.\n",
        "\n",
        "21.What is the purpose of covariance?\n",
        "- The purpose of covariance is to measure the degree to which two variables change together. It indicates whether two variables tend to increase or decrease simultaneously (positive covariance) or if one tends to increase as the other decreases (negative covariance). Covariance helps understand the direction of the relationship between variables, but it doesn't measure the strength of that relationship.\n",
        "\n",
        "22.What does correlation measure in statistics?\n",
        "- Correlation Coefficient: Simple Definition, Formula, Easy ...In statistics, correlation measures the strength and direction of a relationship between two variables. It indicates how much the variables change together, and whether that change is in the same (positive) or opposite (negative) direction. A correlation coefficient, typically represented by 'r', quantifies this relationship.\n",
        "\n",
        "23.What is the difference between covariance and correlation?\n",
        "- Covariance and correlation both measure the relationship between two variables, but they differ in how they represent the strength and scale of that relationship. Covariance indicates the direction of the relationship (positive or negative), while correlation also indicates the strength of that relationship and is standardized to a range between -1 and +1.\n",
        "\n",
        "24.What are some real-world applications of statistics?\n",
        "- Statistics are used in a wide variety of fields to analyze data, identify trends, and make informed decisions. Some examples are: Business:\n",
        "Analyzing sales data, market trends, and customer behavior. Healthcare:\n",
        "Conducting clinical trials, analyzing patient data, and understanding disease patterns.Finance:Assessing investment risks, predicting market fluctuations, and developing financial models.Government:Analyzing census data, tracking crime rates, and evaluating the effectiveness of policies.Education:\n",
        "Evaluating student performance, determining the effectiveness of teaching methods, and tracking graduation rates.Sports:Analyzing player statistics, predicting game outcomes, and evaluating team performance."
      ],
      "metadata": {
        "id": "EUum7L-UAfwI"
      }
    },
    {
      "cell_type": "markdown",
      "source": [
        "PRACTICAL QUESTIONS"
      ],
      "metadata": {
        "id": "3kLY5qIZkJst"
      }
    },
    {
      "cell_type": "markdown",
      "source": [
        "1.How do you calculate the mean, median, and mode of a dataset?\n",
        "- To calculate the mean, median, and mode of a dataset:\n",
        "Mean: Add up all the numbers in the dataset and divide the sum by the total number of items in the dataset.\n",
        "Median: Arrange the dataset in order from smallest to largest. The median is the middle number in the ordered list. If there's an even number of items, the median is the average of the two middle numbers.\n",
        "Mode: The mode is the number that appears most frequently in the dataset.\n",
        "Example: dataset is: 2, 5, 3, 5, 9, 1, 5\n",
        "Mean: (2 + 5 + 3 + 5 + 9 + 1 + 5) / 7 = 30 / 7 = 4.28\n",
        "Median: 1, 2, 3, 5, 5, 5, 9. The median is 5\n",
        "Mode: 5 appears three times, which is more than any other number, so the mode is 5.\n"
      ],
      "metadata": {
        "id": "XImu6JDtkNqD"
      }
    },
    {
      "cell_type": "markdown",
      "source": [
        "2.Write a Python program to compute the variance and standard deviation of a dataset"
      ],
      "metadata": {
        "id": "dzrtWIzSllc4"
      }
    },
    {
      "cell_type": "code",
      "source": [
        "import statistics\n",
        "\n",
        "# dataset\n",
        "numbers = [5, 7, 3, 7, 9]\n",
        "\n",
        "# Calculate variance and standard deviation\n",
        "variance = statistics.pvariance(numbers)\n",
        "std_dev = statistics.pstdev(numbers)\n",
        "\n",
        "# Print results\n",
        "print(\"Numbers:\", numbers)\n",
        "print(\"Variance:\", variance)\n",
        "print(\"Standard Deviation:\", std_dev)\n"
      ],
      "metadata": {
        "colab": {
          "base_uri": "https://localhost:8080/"
        },
        "id": "6PwK4-5qlodu",
        "outputId": "a4fd7a31-ecbc-4f0d-acc1-9bdbcd0163cb"
      },
      "execution_count": null,
      "outputs": [
        {
          "output_type": "stream",
          "name": "stdout",
          "text": [
            "Numbers: [5, 7, 3, 7, 9]\n",
            "Variance: 4.16\n",
            "Standard Deviation: 2.039607805437114\n"
          ]
        }
      ]
    },
    {
      "cell_type": "markdown",
      "source": [
        "3.Create a dataset and classify it into nominal, ordinal, interval, and ratio types.\n"
      ],
      "metadata": {
        "id": "2gtyC7tFmbzf"
      }
    },
    {
      "cell_type": "code",
      "source": [
        "| Name  | Grade | Satisfaction Level | Temperature (°C) | Age |\n",
        "| ----- | ----- | ------------------ | ---------------- | --- |\n",
        "| Anwesa | A     | High               | 25               | 20  |\n",
        "| Boby  | B     | Medium             | 30               | 22  |\n",
        "| Rio   | C     | Low                | 28               | 19  |\n",
        "| Tuli  | A     | High               | 26               | 21  |\n"
      ],
      "metadata": {
        "id": "GS2TTH52nJVV"
      },
      "execution_count": null,
      "outputs": []
    },
    {
      "cell_type": "markdown",
      "source": [
        " - Nominal:Anwesa,Boby,Rio,Tuli\n",
        " - Ordinal(Ordered categories):\n",
        "  Grade= A > B > C (order matters but difference is not measurable)\n",
        "  Satisfaction Level=High > Medium > Low\n",
        "- Interval (Ordered, measurable differences, no true zero):\n",
        "Temperature (°C)= Difference between values is meaningful, but 0°C does not mean \"no temperature\".\n",
        "- Ratio (Has order, equal intervals, and true zero):\n",
        "Age=0 means no age; 20 years is twice as old as 10 years.\n"
      ],
      "metadata": {
        "id": "7pEFTo5QnMIe"
      }
    },
    {
      "cell_type": "markdown",
      "source": [
        "4.Implement sampling techniques like random sampling and stratified sampling.\n",
        "- Random Sampling:\n",
        "Define the Population: Identify the entire group of individuals you're interested in.\n",
        "Determine the Sample Size: Decide how many individuals you need to include in your sample.\n",
        "Assign Unique Numbers: Give each member of the population a unique number.\n",
        "Use a Random Number Generator: Use a tool like SurveyMonkey's guide to generate random numbers.\n",
        "Select the Sample: The individuals whose numbers are randomly selected will be included in your sample.\n",
        "- Stratified Sampling:\n",
        "Define the Population and Subgroups: Identify the entire population and the subgroups (strata) you'll use for stratification (e.g., age, gender, income).\n",
        "Determine the Sample Size for Each Stratum: Decide how many individuals you want to sample from each subgroup.\n",
        "List the Population Within Each Stratum: Create a list of all individuals in each subgroup.\n",
        "Randomly Select from Each Stratum: Use random sampling within each subgroup to select individuals for your sample."
      ],
      "metadata": {
        "id": "ygQ8LzBkowr3"
      }
    },
    {
      "cell_type": "markdown",
      "source": [
        "5.Write a Python function to calculate the range of a dataset."
      ],
      "metadata": {
        "id": "O1jC-O_E_lLi"
      }
    },
    {
      "cell_type": "code",
      "source": [
        "def calculate_range(data):\n",
        "    if not data:\n",
        "        return None  # Return None if data is empty\n",
        "    return max(data) - min(data)\n",
        "\n",
        "# Example usage:\n",
        "dataset = [12, 5, 8, 19, 3, 7]\n",
        "print(\"Range of the dataset:\", calculate_range(dataset))\n"
      ],
      "metadata": {
        "colab": {
          "base_uri": "https://localhost:8080/"
        },
        "id": "qfLBrv7n_woh",
        "outputId": "91119c3b-907d-40c0-9864-74c13eb10b6c"
      },
      "execution_count": null,
      "outputs": [
        {
          "output_type": "stream",
          "name": "stdout",
          "text": [
            "Range of the dataset: 16\n"
          ]
        }
      ]
    },
    {
      "cell_type": "markdown",
      "source": [
        "6.Create a dataset and plot its histogram to visualize skewness."
      ],
      "metadata": {
        "id": "81JFIR7ABQry"
      }
    },
    {
      "cell_type": "code",
      "source": [
        "import numpy as np\n",
        "import matplotlib.pyplot as plt\n",
        "\n",
        "# Create a right-skewed dataset using exponential distribution\n",
        "data = np.random.exponential(scale=2.0, size=1000)\n",
        "\n",
        "# Plot the histogram\n",
        "plt.hist(data, bins=30, color='skyblue', edgecolor='black')\n",
        "plt.title('Histogram of Right-Skewed Data')\n",
        "plt.xlabel('Value')\n",
        "plt.ylabel('Frequency')\n",
        "plt.grid(True)\n",
        "plt.show()\n"
      ],
      "metadata": {
        "colab": {
          "base_uri": "https://localhost:8080/",
          "height": 472
        },
        "id": "h_pYKQbVB3eV",
        "outputId": "7bf7099f-ad0f-48d1-bbed-6c7bd4da2397"
      },
      "execution_count": null,
      "outputs": [
        {
          "output_type": "display_data",
          "data": {
            "text/plain": [
              "<Figure size 640x480 with 1 Axes>"
            ],
            "image/png": "[encoded data removed]"
          },
          "metadata": {}
        }
      ]
    },
    {
      "cell_type": "markdown",
      "source": [
        "7.Calculate skewness and kurtosis of a dataset using Python libraries"
      ],
      "metadata": {
        "id": "4ed64n8VB5w_"
      }
    },
    {
      "cell_type": "code",
      "source": [
        "import numpy as np\n",
        "from scipy.stats import skew, kurtosis\n",
        "\n",
        "# Create a dataset (right-skewed using exponential distribution)\n",
        "data = np.random.exponential(scale=2.0, size=1000)\n",
        "\n",
        "# Calculate skewness and kurtosis\n",
        "data_skewness = skew(data)\n",
        "data_kurtosis = kurtosis(data)\n",
        "\n",
        "# Print the results\n",
        "print(\"Skewness:\", data_skewness)\n",
        "print(\"Kurtosis:\", data_kurtosis)\n"
      ],
      "metadata": {
        "colab": {
          "base_uri": "https://localhost:8080/"
        },
        "id": "U73qQ1qzCdGN",
        "outputId": "b04c266c-df8d-420d-a371-d5fb06a40150"
      },
      "execution_count": null,
      "outputs": [
        {
          "output_type": "stream",
          "name": "stdout",
          "text": [
            "Skewness: 1.7544546548871998\n",
            "Kurtosis: 4.004494669945821\n"
          ]
        }
      ]
    },
    {
      "cell_type": "markdown",
      "source": [
        "8.Generate a dataset and demonstrate positive and negative skewness"
      ],
      "metadata": {
        "id": "HzmuamOMCgQP"
      }
    },
    {
      "cell_type": "code",
      "source": [
        "import numpy as np\n",
        "import matplotlib.pyplot as plt\n",
        "from scipy.stats import skew\n",
        "\n",
        "# Generate datasets\n",
        "positive_skew_data = np.random.exponential(scale=2.0, size=1000)\n",
        "negative_skew_data = -np.random.exponential(scale=2.0, size=1000)\n",
        "\n",
        "# Calculate skewness\n",
        "skew_positive = skew(positive_skew_data)\n",
        "skew_negative = skew(negative_skew_data)\n",
        "\n",
        "# Plot histograms\n",
        "fig, axes = plt.subplots(1, 2, figsize=(12, 5))\n",
        "\n",
        "# Positive skew\n",
        "axes[0].hist(positive_skew_data, bins=30, color='lightgreen', edgecolor='black')\n",
        "axes[0].set_title(f'Positive Skewness\\nSkew = {skew_positive:.2f}')\n",
        "axes[0].set_xlabel('Value')\n",
        "axes[0].set_ylabel('Frequency')\n",
        "\n",
        "# Negative skew\n",
        "axes[1].hist(negative_skew_data, bins=30, color='salmon', edgecolor='black')\n",
        "axes[1].set_title(f'Negative Skewness\\nSkew = {skew_negative:.2f}')\n",
        "axes[1].set_xlabel('Value')\n",
        "axes[1].set_ylabel('Frequency')\n",
        "\n",
        "plt.tight_layout()\n",
        "plt.show()\n"
      ],
      "metadata": {
        "colab": {
          "base_uri": "https://localhost:8080/",
          "height": 506
        },
        "id": "6q0UHvRuC6Pl",
        "outputId": "42eb551e-5a14-484e-8ec0-efb9683ebfe3"
      },
      "execution_count": null,
      "outputs": [
        {
          "output_type": "display_data",
          "data": {
            "text/plain": [
              "<Figure size 1200x500 with 2 Axes>"
            ],
            "image/png": "[encoded data removed]"
          },
          "metadata": {}
        }
      ]
    },
    {
      "cell_type": "markdown",
      "source": [
        "9.Write a Python script to calculate covariance between two datasets."
      ],
      "metadata": {
        "id": "z94-QWglDSdn"
      }
    },
    {
      "cell_type": "code",
      "source": [
        "import numpy as np\n",
        "\n",
        "# Sample datasets\n",
        "x = [2, 4, 6, 8, 10]\n",
        "y = [1, 3, 2, 5, 7]\n",
        "\n",
        "# --- Method 1: Manual Calculation ---\n",
        "def calculate_covariance(x, y):\n",
        "    n = len(x)\n",
        "    mean_x = sum(x) / n\n",
        "    mean_y = sum(y) / n\n",
        "    covariance = sum((x[i] - mean_x) * (y[i] - mean_y) for i in range(n)) / (n - 1)\n",
        "    return covariance\n",
        "\n",
        "manual_cov = calculate_covariance(x, y)\n",
        "print(\"Covariance (manual calculation):\", manual_cov)\n",
        "\n",
        "# --- Method 2: Using NumPy ---\n",
        "np_cov_matrix = np.cov(x, y, ddof=1)  # ddof=1 for sample covariance\n",
        "print(\"Covariance (NumPy):\", np_cov_matrix[0][1])\n"
      ],
      "metadata": {
        "colab": {
          "base_uri": "https://localhost:8080/"
        },
        "id": "wM7YHZQyDYva",
        "outputId": "acb3a9d4-0638-42f0-8300-308fe7f2c1d6"
      },
      "execution_count": null,
      "outputs": [
        {
          "output_type": "stream",
          "name": "stdout",
          "text": [
            "Covariance (manual calculation): 7.0\n",
            "Covariance (NumPy): 7.0\n"
          ]
        }
      ]
    },
    {
      "cell_type": "markdown",
      "source": [
        "10.Write a Python script to calculate the correlation coefficient between two datasets."
      ],
      "metadata": {
        "id": "Pp6K5gtjDir0"
      }
    },
    {
      "cell_type": "code",
      "source": [
        "import numpy as np\n",
        "\n",
        "# Sample datasets\n",
        "x = [2, 4, 6, 8, 10]\n",
        "y = [1, 3, 2, 5, 7]\n",
        "\n",
        "# --- Method 1: Manual Calculation ---\n",
        "def calculate_correlation(x, y):\n",
        "    n = len(x)\n",
        "    mean_x = sum(x) / n\n",
        "    mean_y = sum(y) / n\n",
        "\n",
        "    numerator = sum((x[i] - mean_x) * (y[i] - mean_y) for i in range(n))\n",
        "    denominator = (sum((x[i] - mean_x)**2 for i in range(n)) *\n",
        "                   sum((y[i] - mean_y)**2 for i in range(n))) ** 0.5\n",
        "\n",
        "    correlation = numerator / denominator\n",
        "    return correlation\n",
        "\n",
        "manual_corr = calculate_correlation(x, y)\n",
        "print(\"Correlation Coefficient (manual):\", manual_corr)\n",
        "\n",
        "# --- Method 2: Using NumPy ---\n",
        "np_corr_matrix = np.corrcoef(x, y)\n",
        "print(\"Correlation Coefficient (NumPy):\", np_corr_matrix[0][1])\n"
      ],
      "metadata": {
        "colab": {
          "base_uri": "https://localhost:8080/"
        },
        "id": "q_JxijsxEDWf",
        "outputId": "fc3bbd05-f858-4444-e0ee-c968c5b28d20"
      },
      "execution_count": null,
      "outputs": [
        {
          "output_type": "stream",
          "name": "stdout",
          "text": [
            "Correlation Coefficient (manual): 0.9191450300180578\n",
            "Correlation Coefficient (NumPy): 0.9191450300180578\n"
          ]
        }
      ]
    },
    {
      "cell_type": "markdown",
      "source": [
        "11.Create a scatter plot to visualize the relationship between two variables."
      ],
      "metadata": {
        "id": "tCenDvphENvX"
      }
    },
    {
      "cell_type": "code",
      "source": [
        "import matplotlib.pyplot as plt\n",
        "\n",
        "# Sample datasets\n",
        "x = [2, 4, 6, 8, 10]\n",
        "y = [1, 3, 2, 5, 7]\n",
        "\n",
        "# Create scatter plot\n",
        "plt.scatter(x, y, color='blue', edgecolors='black')\n",
        "plt.title('Scatter Plot of X vs Y')\n",
        "plt.xlabel('X values')\n",
        "plt.ylabel('Y values')\n",
        "plt.grid(True)\n",
        "plt.show()\n"
      ],
      "metadata": {
        "colab": {
          "base_uri": "https://localhost:8080/",
          "height": 472
        },
        "id": "2LLIKDEWEiil",
        "outputId": "5c20ba88-47c4-429e-b321-fdd250b593fd"
      },
      "execution_count": null,
      "outputs": [
        {
          "output_type": "display_data",
          "data": {
            "text/plain": [
              "<Figure size 640x480 with 1 Axes>"
            ],
            "image/png": "[encoded data removed]"
          },
          "metadata": {}
        }
      ]
    },
    {
      "cell_type": "markdown",
      "source": [
        "12.Implement and compare simple random sampling and systematic sampling.\n",
        "- Simple random sampling and systematic sampling are both probability sampling methods, but they differ in how they select the sample. Simple random sampling gives every individual in the population an equal chance of being chosen, while systematic sampling selects individuals at a fixed interval after a random start. Systematic sampling is generally easier to implement than simple random sampling, but it can be susceptible to bias if there are hidden patterns in the population data.\n",
        "Simple Random Sampling:\n",
        "Process-Every individual in the population has an equal and independent chance of being selected.\n",
        "Implementation-A random number generator or similar method is used to select individuals.\n",
        "Advantages-Unbiased, representative of the population if done correctly.\n",
        "Disadvantages-Can be time-consuming and difficult to implement, especially with large populations.\n",
        "Systematic Sampling:\n",
        "Process-Individuals are selected at a fixed interval (k) after a random starting point.\n",
        "Implementation-The sampling interval (k) is calculated (N/n, where N is population size and n is sample size), a random number between 1 and k is chosen as the starting point, and then every kth element is selected.\n",
        "Advantages-Easier and faster to implement than simple random sampling, can be more convenient.\n",
        "Disadvantages-Can introduce bias if there's a periodicity in the data."
      ],
      "metadata": {
        "id": "DwV7CHCNErm8"
      }
    },
    {
      "cell_type": "markdown",
      "source": [
        "13.Calculate the mean, median, and mode of grouped data"
      ],
      "metadata": {
        "id": "zCq_lwYEGeYI"
      }
    },
    {
      "cell_type": "code",
      "source": [
        "| Class Interval | Frequency (f) |\n",
        "| -------------- | ------------- |\n",
        "| 0 - 10         | 5             |\n",
        "| 10 - 20        | 8             |\n",
        "| 20 - 30        | 15            |\n",
        "| 30 - 40        | 16            |\n",
        "| 40 - 50        | 6             |\n",
        "\n"
      ],
      "metadata": {
        "id": "GqDQ7JDIqC4t"
      },
      "execution_count": null,
      "outputs": []
    },
    {
      "cell_type": "code",
      "source": [
        "| Class Interval | f  | Midpoint (x) | f · x |\n",
        "| -------------- | -- | ------------ | ----- |\n",
        "| 0 - 10         | 5  | 5            | 25    |\n",
        "| 10 - 20        | 8  | 15           | 120   |\n",
        "| 20 - 30        | 15 | 25           | 375   |\n",
        "| 30 - 40        | 16 | 35           | 560   |\n",
        "| 40 - 50        | 6  | 45           | 270   |\n",
        "| **Total**      | 50 |              | 1350  |\n"
      ],
      "metadata": {
        "id": "OoqPfvTxqbBk"
      },
      "execution_count": null,
      "outputs": []
    },
    {
      "cell_type": "markdown",
      "source": [
        "MEAN=1350/50=27"
      ],
      "metadata": {
        "id": "e3VWDSr1qdMF"
      }
    },
    {
      "cell_type": "markdown",
      "source": [
        "MEDIAN"
      ],
      "metadata": {
        "id": "TIW2gutgq1N3"
      }
    },
    {
      "cell_type": "code",
      "source": [
        "| Class Interval | Frequency | Cumulative Frequency  |\n",
        "| -------------- | --------- | --------------------- |\n",
        "| 0 - 10         | 5         | 5                     |\n",
        "| 10 - 20        | 8         | 13                    |\n",
        "| 20 - 30        | 15        | 28 ← **Median Class** |\n",
        "| 30 - 40        | 16        | 44                    |\n",
        "| 40 - 50        | 6         | 50                    |\n"
      ],
      "metadata": {
        "id": "SxZqd2Wmq3sc"
      },
      "execution_count": null,
      "outputs": []
    },
    {
      "cell_type": "markdown",
      "source": [],
      "metadata": {
        "id": "xqVcBkk_q8Bz"
      }
    },
    {
      "cell_type": "markdown",
      "source": [
        "14.Simulate data using Python and calculate its central tendency and dispersion."
      ],
      "metadata": {
        "id": "iEZPMB6nrHYn"
      }
    },
    {
      "cell_type": "code",
      "source": [
        "import statistics\n",
        "\n",
        "# Simulated small dataset\n",
        "data = [10, 20, 20, 30, 40, 40, 40, 50, 60]\n",
        "\n",
        "# Central Tendency\n",
        "mean = statistics.mean(data)\n",
        "median = statistics.median(data)\n",
        "mode = statistics.mode(data)\n",
        "\n",
        "# Dispersion\n",
        "data_range = max(data) - min(data)\n",
        "variance = statistics.variance(data)\n",
        "std_dev = statistics.stdev(data)\n",
        "\n",
        "# Display results\n",
        "print(\"Data:\", data)\n",
        "print(\"\\nCentral Tendency:\")\n",
        "print(\"Mean   =\", mean)\n",
        "print(\"Median =\", median)\n",
        "print(\"Mode   =\", mode)\n",
        "\n",
        "print(\"\\nDispersion:\")\n",
        "print(\"Range       =\", data_range)\n",
        "print(\"Variance    =\", variance)\n",
        "print(\"Std Dev     =\", std_dev)\n"
      ],
      "metadata": {
        "colab": {
          "base_uri": "https://localhost:8080/"
        },
        "id": "TnP8ksZVrYjU",
        "outputId": "907ee98a-a5e9-4558-cb3d-befa58e82ed4"
      },
      "execution_count": 1,
      "outputs": [
        {
          "output_type": "stream",
          "name": "stdout",
          "text": [
            "Data: [10, 20, 20, 30, 40, 40, 40, 50, 60]\n",
            "\n",
            "Central Tendency:\n",
            "Mean   = 34.44444444444444\n",
            "Median = 40\n",
            "Mode   = 40\n",
            "\n",
            "Dispersion:\n",
            "Range       = 50\n",
            "Variance    = 252.77777777777777\n",
            "Std Dev     = 15.898986690282428\n"
          ]
        }
      ]
    },
    {
      "cell_type": "markdown",
      "source": [
        "16.Plot a boxplot to understand the spread and identify outliers\n"
      ],
      "metadata": {
        "id": "6juF2nT4rsMP"
      }
    },
    {
      "cell_type": "code",
      "source": [
        "import matplotlib.pyplot as plt\n",
        "\n",
        "# Sample dataset\n",
        "data = [10, 20, 20, 30, 40, 40, 40, 50, 60, 100]  # 100 is an outlier\n",
        "\n",
        "# Create boxplot\n",
        "plt.boxplot(data, vert=False, patch_artist=True, boxprops=dict(facecolor='skyblue'))\n",
        "\n",
        "# Add labels and title\n",
        "plt.title('Boxplot of Data')\n",
        "plt.xlabel('Values')\n",
        "\n",
        "# Show the plot\n",
        "plt.show()\n"
      ],
      "metadata": {
        "colab": {
          "base_uri": "https://localhost:8080/",
          "height": 472
        },
        "id": "0y3a5UiBr-2k",
        "outputId": "64265523-e097-46f6-a87c-b7f0e7489667"
      },
      "execution_count": 2,
      "outputs": [
        {
          "output_type": "display_data",
          "data": {
            "text/plain": [
              "<Figure size 640x480 with 1 Axes>"
            ],
            "image/png": "[encoded data removed]"
          },
          "metadata": {}
        }
      ]
    },
    {
      "cell_type": "markdown",
      "source": [
        "17.Calculate the interquartile range (IQR) of a dataset.\n",
        "- IQR=Q3−Q1\n",
        "- Q1 = First Quartile (25th percentile)\n",
        "- Q3 = Third Quartile (75th percentile)"
      ],
      "metadata": {
        "id": "9L607kgBsD_C"
      }
    },
    {
      "cell_type": "code",
      "source": [
        "import numpy as np\n",
        "\n",
        "# Sample dataset\n",
        "data = [10, 20, 20, 30, 40, 40, 40, 50, 60, 100]\n",
        "\n",
        "# Convert to NumPy array\n",
        "data = np.array(data)\n",
        "\n",
        "# Calculate Q1 and Q3\n",
        "q1 = np.percentile(data, 25)\n",
        "q3 = np.percentile(data, 75)\n",
        "\n",
        "# Calculate IQR\n",
        "iqr = q3 - q1\n",
        "\n",
        "# Show results\n",
        "print(\"Q1 (25th percentile):\", q1)\n",
        "print(\"Q3 (75th percentile):\", q3)\n",
        "print(\"IQR:\", iqr)\n"
      ],
      "metadata": {
        "colab": {
          "base_uri": "https://localhost:8080/"
        },
        "id": "-0xVQdZUslxy",
        "outputId": "216d1d17-f839-4337-b265-039ce08ddff4"
      },
      "execution_count": 3,
      "outputs": [
        {
          "output_type": "stream",
          "name": "stdout",
          "text": [
            "Q1 (25th percentile): 22.5\n",
            "Q3 (75th percentile): 47.5\n",
            "IQR: 25.0\n"
          ]
        }
      ]
    },
    {
      "cell_type": "markdown",
      "source": [
        "18.Implement Z-score normalization and explain its significance.\n",
        "- Z-score normalization (also called standardization) transforms data so that it has:Mean = 0\n",
        "Standard Deviation = 1\n",
        "This is useful when comparing features with different scales or units (e.g., height in cm and weight in kg).\n",
        "Z= (X-μ)/σ\n",
        "\n",
        "here:\n",
        "X = original value\n",
        "μ = mean of the dataset\n",
        "σ = standard deviation of the dataset\n",
        "Z = standardized score\n",
        "\n",
        "- Significance of Z-score Normalization:\n",
        "   - Helps in comparing features on the same scale.\n",
        "\n",
        "  - Essential for distance-based algorithms like KNN, SVM, and clustering.\n",
        "\n",
        "  - Makes it easy to detect outliers (values with |Z| > 2 or 3).\n",
        "\n"
      ],
      "metadata": {
        "id": "W4V0MF_ns32m"
      }
    },
    {
      "cell_type": "markdown",
      "source": [
        "19.Compare two datasets using their standard deviations\n"
      ],
      "metadata": {
        "id": "X2wdKKZFulgC"
      }
    },
    {
      "cell_type": "code",
      "source": [
        "import numpy as np\n",
        "\n",
        "# Dataset A: More consistent\n",
        "data_a = [50, 52, 51, 49, 50, 48, 52, 50]\n",
        "\n",
        "# Dataset B: More spread\n",
        "data_b = [30, 40, 20, 50, 10, 60, 25, 55]\n",
        "\n",
        "# Convert to arrays\n",
        "data_a = np.array(data_a)\n",
        "data_b = np.array(data_b)\n",
        "\n",
        "# Calculate standard deviations\n",
        "std_a = np.std(data_a)\n",
        "std_b = np.std(data_b)\n",
        "\n",
        "# Display results\n",
        "print(\"Standard Deviation of Dataset A:\", std_a)\n",
        "print(\"Standard Deviation of Dataset B:\", std_b)\n",
        "\n",
        "# Interpretation\n",
        "if std_a < std_b:\n",
        "    print(\"✅ Dataset A is more consistent (less spread)\")\n",
        "else:\n",
        "    print(\"✅ Dataset B is more consistent (less spread)\")\n"
      ],
      "metadata": {
        "colab": {
          "base_uri": "https://localhost:8080/"
        },
        "id": "uUUTPDUou78f",
        "outputId": "14932b49-878f-46dd-e5a2-1866f3ae0ef8"
      },
      "execution_count": 4,
      "outputs": [
        {
          "output_type": "stream",
          "name": "stdout",
          "text": [
            "Standard Deviation of Dataset A: 1.299038105676658\n",
            "Standard Deviation of Dataset B: 16.723860200324566\n",
            "✅ Dataset A is more consistent (less spread)\n"
          ]
        }
      ]
    },
    {
      "cell_type": "markdown",
      "source": [
        "21.Use seaborn to create a correlation matrix for a dataset"
      ],
      "metadata": {
        "id": "Q979-xsHvK7o"
      }
    },
    {
      "cell_type": "code",
      "source": [
        "import seaborn as sns\n",
        "import matplotlib.pyplot as plt\n",
        "\n",
        "# Load sample dataset\n",
        "df = sns.load_dataset('iris')  # Contains sepal/petal length/width\n",
        "\n",
        "# Calculate correlation matrix\n",
        "corr_matrix = df.corr(numeric_only=True)\n",
        "\n",
        "# Plot correlation heatmap\n",
        "plt.figure(figsize=(8, 6))\n",
        "sns.heatmap(corr_matrix, annot=True, cmap='coolwarm', fmt=\".2f\", linewidths=0.5)\n",
        "\n",
        "plt.title('Correlation Matrix of Iris Dataset')\n",
        "plt.show()\n"
      ],
      "metadata": {
        "colab": {
          "base_uri": "https://localhost:8080/",
          "height": 545
        },
        "id": "Eb7wiH3hvX3_",
        "outputId": "a48cf97b-902c-4fb0-eebc-4378e16942c5"
      },
      "execution_count": 5,
      "outputs": [
        {
          "output_type": "display_data",
          "data": {
            "text/plain": [
              "<Figure size 800x600 with 2 Axes>"
            ],
            "image/png": "[encoded data removed]"
          },
          "metadata": {}
        }
      ]
    },
    {
      "cell_type": "markdown",
      "source": [
        "22.Generate a dataset and implement both variance and standard deviation computations."
      ],
      "metadata": {
        "id": "GnLKlorjvkde"
      }
    },
    {
      "cell_type": "code",
      "source": [
        "import math\n",
        "\n",
        "def calculate_mean(data):\n",
        "    \"\"\"Calculates the arithmetic mean of a list of numbers.\"\"\"\n",
        "    return sum(data) / len(data)\n",
        "\n",
        "def calculate_variance(data):\n",
        "    \"\"\"Calculates the variance of a list of numbers.\"\"\"\n",
        "    n = len(data)\n",
        "    if n < 2:\n",
        "        return 0  # Variance is undefined for a single value\n",
        "    mean = calculate_mean(data)\n",
        "    deviations = [(x - mean) ** 2 for x in data]\n",
        "    variance = sum(deviations) / (n)  # Population variance\n",
        "    return variance\n",
        "\n",
        "def calculate_std_dev(data):\n",
        "    \"\"\"Calculates the standard deviation of a list of numbers.\"\"\"\n",
        "    variance = calculate_variance(data)\n",
        "    return math.sqrt(variance)\n",
        "\n",
        "# Generate a sample dataset\n",
        "data = [10, 12, 15, 18, 20, 22, 25]\n",
        "\n",
        "# Calculate and print the mean\n",
        "mean = calculate_mean(data)\n",
        "print(f\"Mean: {mean}\")\n",
        "\n",
        "# Calculate and print the variance\n",
        "variance = calculate_variance(data)\n",
        "print(f\"Variance: {variance}\")\n",
        "\n",
        "# Calculate and print the standard deviation\n",
        "std_dev = calculate_std_dev(data)\n",
        "print(f\"Standard Deviation: {std_dev}\")"
      ],
      "metadata": {
        "colab": {
          "base_uri": "https://localhost:8080/"
        },
        "id": "_WpJJE2nwCcu",
        "outputId": "4df4be77-c6b6-4828-9aa1-7c5af737e9d2"
      },
      "execution_count": 8,
      "outputs": [
        {
          "output_type": "stream",
          "name": "stdout",
          "text": [
            "Mean: 17.428571428571427\n",
            "Variance: 25.102040816326532\n",
            "Standard Deviation: 5.010193690500052\n"
          ]
        }
      ]
    },
    {
      "cell_type": "markdown",
      "source": [
        "23.Visualize skewness and kurtosis using Python libraries like matplotlib or seaborn"
      ],
      "metadata": {
        "id": "v8-GRokSwLeV"
      }
    },
    {
      "cell_type": "code",
      "source": [
        "import numpy as np\n",
        "import seaborn as sns\n",
        "import matplotlib.pyplot as plt\n",
        "from scipy.stats import skew, kurtosis\n",
        "\n",
        "# Step 1: Generate a dataset (positively skewed)\n",
        "np.random.seed(42)\n",
        "data = np.random.exponential(scale=2, size=1000)\n",
        "\n",
        "# Step 2: Calculate skewness and kurtosis\n",
        "data_skew = skew(data)\n",
        "data_kurt = kurtosis(data)  # excess kurtosis (normal = 0)\n",
        "\n",
        "# Step 3: Plot the distribution\n",
        "plt.figure(figsize=(10, 5))\n",
        "sns.histplot(data, kde=True, color='skyblue', bins=30)\n",
        "plt.title(f'Distribution (Skewness = {data_skew:.2f}, Kurtosis = {data_kurt:.2f})')\n",
        "plt.xlabel('Value')\n",
        "plt.ylabel('Frequency')\n",
        "plt.axvline(np.mean(data), color='red', linestyle='--', label='Mean')\n",
        "plt.legend()\n",
        "plt.show()\n"
      ],
      "metadata": {
        "colab": {
          "base_uri": "https://localhost:8080/",
          "height": 487
        },
        "id": "M8WLhpKKwRRe",
        "outputId": "e7b7f7dc-cf19-4ca6-bed1-bd706649d525"
      },
      "execution_count": 9,
      "outputs": [
        {
          "output_type": "display_data",
          "data": {
            "text/plain": [
              "<Figure size 1000x500 with 1 Axes>"
            ],
            "image/png": "[encoded data removed]"
          },
          "metadata": {}
        }
      ]
    },
    {
      "cell_type": "markdown",
      "source": [
        "24.Implement the Pearson and Spearman correlation coefficients for a dataset."
      ],
      "metadata": {
        "id": "Vc4ZpjzQwZqa"
      }
    },
    {
      "cell_type": "code",
      "source": [
        "import numpy as np\n",
        "from scipy.stats import pearsonr, spearmanr\n",
        "\n",
        "# Step 1: Sample dataset\n",
        "x = [10, 20, 30, 40, 50, 60, 70]\n",
        "y = [15, 25, 35, 45, 50, 65, 80]\n",
        "\n",
        "# Step 2: Pearson correlation\n",
        "pearson_corr, pearson_p = pearsonr(x, y)\n",
        "\n",
        "# Step 3: Spearman correlation\n",
        "spearman_corr, spearman_p = spearmanr(x, y)\n",
        "\n",
        "# Step 4: Output results\n",
        "print(\"Pearson Correlation Coefficient:\", round(pearson_corr, 2))\n",
        "print(\"Pearson p-value:\", round(pearson_p, 4))\n",
        "\n",
        "print(\"\\nSpearman Correlation Coefficient:\", round(spearman_corr, 2))\n",
        "print(\"Spearman p-value:\", round(spearman_p, 4))\n"
      ],
      "metadata": {
        "colab": {
          "base_uri": "https://localhost:8080/"
        },
        "id": "CuQDUHNowflW",
        "outputId": "c000f3e2-f49e-4cc4-fec0-efadffdfbb2c"
      },
      "execution_count": 10,
      "outputs": [
        {
          "output_type": "stream",
          "name": "stdout",
          "text": [
            "Pearson Correlation Coefficient: 0.99\n",
            "Pearson p-value: 0.0\n",
            "\n",
            "Spearman Correlation Coefficient: 1.0\n",
            "Spearman p-value: 0.0\n"
          ]
        }
      ]
    }
  ]
}